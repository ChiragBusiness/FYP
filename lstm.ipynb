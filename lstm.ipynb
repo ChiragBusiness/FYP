{
 "cells": [
  {
   "cell_type": "code",
   "execution_count": 1,
   "metadata": {},
   "outputs": [],
   "source": [
    "import numpy as np\n",
    "import pandas as pd\n",
    "import matplotlib.pyplot as plt"
   ]
  },
  {
   "cell_type": "code",
   "execution_count": 2,
   "metadata": {},
   "outputs": [
    {
     "data": {
      "text/plain": [
       "(        sample  ENC_POS_FLOATMAG_BH  dENC_X  ddENC_X  FLOATMAG_ACC_ADC_PORT_0  \\\n",
       " 2            2                  1.0     0.0     -3.0                    114.0   \n",
       " 3            3                  2.0     1.0      1.0                    -76.0   \n",
       " 4            4                  2.0     0.0     -1.0                     49.0   \n",
       " 5            5                  0.0    -2.0     -2.0                    -10.0   \n",
       " 6            6                 -1.0    -1.0      1.0                     41.0   \n",
       " ...        ...                  ...     ...      ...                      ...   \n",
       " 210217    3873             100001.0     0.0     -2.0                    243.0   \n",
       " 210218    3874             100000.0    -1.0     -1.0                     46.0   \n",
       " 210219    3875             100004.0     4.0      5.0                     85.0   \n",
       " 210220    3876             100000.0    -4.0     -8.0                    -26.0   \n",
       " 210221    3877             100001.0     1.0      5.0                    -64.0   \n",
       " \n",
       "         DAC_FLOATMAG_BH  file  \n",
       " 2                -200.0     0  \n",
       " 3                -191.0     0  \n",
       " 4                -171.0     0  \n",
       " 5                -142.0     0  \n",
       " 6                -127.0     0  \n",
       " ...                 ...   ...  \n",
       " 210217            254.0    23  \n",
       " 210218            259.0    23  \n",
       " 210219            240.0    23  \n",
       " 210220            270.0    23  \n",
       " 210221            254.0    23  \n",
       " \n",
       " [210174 rows x 7 columns],\n",
       "        sample  ENC_POS_FLOATMAG_BH  dENC_X  ddENC_X  FLOATMAG_ACC_ADC_PORT_0  \\\n",
       " 2           2                 -2.0     0.0     -1.0                    -15.0   \n",
       " 3           3                 -3.0    -1.0     -1.0                     50.0   \n",
       " 4           4                  0.0     3.0      4.0                    -96.0   \n",
       " 5           5                 -4.0    -4.0     -7.0                     53.0   \n",
       " 6           6                 -3.0     1.0      5.0                   -105.0   \n",
       " ...       ...                  ...     ...      ...                      ...   \n",
       " 15641    1581             100011.0     4.0      1.0                    804.0   \n",
       " 15642    1582             100010.0    -1.0     -5.0                    480.0   \n",
       " 15643    1583             100010.0     0.0      1.0                    846.0   \n",
       " 15644    1584             100007.0    -3.0     -3.0                    482.0   \n",
       " 15645    1585             100010.0     3.0      6.0                    863.0   \n",
       " \n",
       "        DAC_FLOATMAG_BH  file  \n",
       " 2               -205.0    24  \n",
       " 3               -187.0    24  \n",
       " 4               -191.0    24  \n",
       " 5               -141.0    24  \n",
       " 6               -143.0    24  \n",
       " ...                ...   ...  \n",
       " 15641            244.0    29  \n",
       " 15642            262.0    29  \n",
       " 15643            262.0    29  \n",
       " 15644            274.0    29  \n",
       " 15645            252.0    29  \n",
       " \n",
       " [15634 rows x 7 columns])"
      ]
     },
     "execution_count": 2,
     "metadata": {},
     "output_type": "execute_result"
    }
   ],
   "source": [
    "train = pd.read_csv('Data/train_data_new.csv', usecols=['file', 'sample','ENC_POS_FLOATMAG_BH', 'dENC_X', 'ddENC_X', 'FLOATMAG_ACC_ADC_PORT_0', 'DAC_FLOATMAG_BH']).dropna()\n",
    "test = pd.read_csv('Data/test_data_new.csv', usecols=['file', 'sample','ENC_POS_FLOATMAG_BH', 'dENC_X', 'ddENC_X', 'FLOATMAG_ACC_ADC_PORT_0', 'DAC_FLOATMAG_BH']).dropna()\n",
    "train, test"
   ]
  },
  {
   "cell_type": "code",
   "execution_count": 41,
   "metadata": {},
   "outputs": [
    {
     "data": {
      "text/html": [
       "<div>\n",
       "<style scoped>\n",
       "    .dataframe tbody tr th:only-of-type {\n",
       "        vertical-align: middle;\n",
       "    }\n",
       "\n",
       "    .dataframe tbody tr th {\n",
       "        vertical-align: top;\n",
       "    }\n",
       "\n",
       "    .dataframe thead th {\n",
       "        text-align: right;\n",
       "    }\n",
       "</style>\n",
       "<table border=\"1\" class=\"dataframe\">\n",
       "  <thead>\n",
       "    <tr style=\"text-align: right;\">\n",
       "      <th></th>\n",
       "      <th>sample</th>\n",
       "      <th>ENC_POS_FLOATMAG_BH</th>\n",
       "      <th>dENC_X</th>\n",
       "      <th>ddENC_X</th>\n",
       "      <th>FLOATMAG_ACC_ADC_PORT_0</th>\n",
       "      <th>DAC_FLOATMAG_BH</th>\n",
       "      <th>file</th>\n",
       "      <th>target</th>\n",
       "    </tr>\n",
       "  </thead>\n",
       "  <tbody>\n",
       "    <tr>\n",
       "      <th>2</th>\n",
       "      <td>2</td>\n",
       "      <td>1.0</td>\n",
       "      <td>0.0</td>\n",
       "      <td>-3.0</td>\n",
       "      <td>114.0</td>\n",
       "      <td>-200.0</td>\n",
       "      <td>0</td>\n",
       "      <td>-76.0</td>\n",
       "    </tr>\n",
       "    <tr>\n",
       "      <th>3</th>\n",
       "      <td>3</td>\n",
       "      <td>2.0</td>\n",
       "      <td>1.0</td>\n",
       "      <td>1.0</td>\n",
       "      <td>-76.0</td>\n",
       "      <td>-191.0</td>\n",
       "      <td>0</td>\n",
       "      <td>49.0</td>\n",
       "    </tr>\n",
       "    <tr>\n",
       "      <th>4</th>\n",
       "      <td>4</td>\n",
       "      <td>2.0</td>\n",
       "      <td>0.0</td>\n",
       "      <td>-1.0</td>\n",
       "      <td>49.0</td>\n",
       "      <td>-171.0</td>\n",
       "      <td>0</td>\n",
       "      <td>-10.0</td>\n",
       "    </tr>\n",
       "    <tr>\n",
       "      <th>5</th>\n",
       "      <td>5</td>\n",
       "      <td>0.0</td>\n",
       "      <td>-2.0</td>\n",
       "      <td>-2.0</td>\n",
       "      <td>-10.0</td>\n",
       "      <td>-142.0</td>\n",
       "      <td>0</td>\n",
       "      <td>41.0</td>\n",
       "    </tr>\n",
       "    <tr>\n",
       "      <th>6</th>\n",
       "      <td>6</td>\n",
       "      <td>-1.0</td>\n",
       "      <td>-1.0</td>\n",
       "      <td>1.0</td>\n",
       "      <td>41.0</td>\n",
       "      <td>-127.0</td>\n",
       "      <td>0</td>\n",
       "      <td>-11.0</td>\n",
       "    </tr>\n",
       "    <tr>\n",
       "      <th>...</th>\n",
       "      <td>...</td>\n",
       "      <td>...</td>\n",
       "      <td>...</td>\n",
       "      <td>...</td>\n",
       "      <td>...</td>\n",
       "      <td>...</td>\n",
       "      <td>...</td>\n",
       "      <td>...</td>\n",
       "    </tr>\n",
       "    <tr>\n",
       "      <th>210217</th>\n",
       "      <td>3873</td>\n",
       "      <td>100001.0</td>\n",
       "      <td>0.0</td>\n",
       "      <td>-2.0</td>\n",
       "      <td>243.0</td>\n",
       "      <td>254.0</td>\n",
       "      <td>23</td>\n",
       "      <td>46.0</td>\n",
       "    </tr>\n",
       "    <tr>\n",
       "      <th>210218</th>\n",
       "      <td>3874</td>\n",
       "      <td>100000.0</td>\n",
       "      <td>-1.0</td>\n",
       "      <td>-1.0</td>\n",
       "      <td>46.0</td>\n",
       "      <td>259.0</td>\n",
       "      <td>23</td>\n",
       "      <td>85.0</td>\n",
       "    </tr>\n",
       "    <tr>\n",
       "      <th>210219</th>\n",
       "      <td>3875</td>\n",
       "      <td>100004.0</td>\n",
       "      <td>4.0</td>\n",
       "      <td>5.0</td>\n",
       "      <td>85.0</td>\n",
       "      <td>240.0</td>\n",
       "      <td>23</td>\n",
       "      <td>-26.0</td>\n",
       "    </tr>\n",
       "    <tr>\n",
       "      <th>210220</th>\n",
       "      <td>3876</td>\n",
       "      <td>100000.0</td>\n",
       "      <td>-4.0</td>\n",
       "      <td>-8.0</td>\n",
       "      <td>-26.0</td>\n",
       "      <td>270.0</td>\n",
       "      <td>23</td>\n",
       "      <td>-64.0</td>\n",
       "    </tr>\n",
       "    <tr>\n",
       "      <th>210221</th>\n",
       "      <td>3877</td>\n",
       "      <td>100001.0</td>\n",
       "      <td>1.0</td>\n",
       "      <td>5.0</td>\n",
       "      <td>-64.0</td>\n",
       "      <td>254.0</td>\n",
       "      <td>23</td>\n",
       "      <td>NaN</td>\n",
       "    </tr>\n",
       "  </tbody>\n",
       "</table>\n",
       "<p>210174 rows × 8 columns</p>\n",
       "</div>"
      ],
      "text/plain": [
       "        sample  ENC_POS_FLOATMAG_BH  dENC_X  ddENC_X  FLOATMAG_ACC_ADC_PORT_0  \\\n",
       "2            2                  1.0     0.0     -3.0                    114.0   \n",
       "3            3                  2.0     1.0      1.0                    -76.0   \n",
       "4            4                  2.0     0.0     -1.0                     49.0   \n",
       "5            5                  0.0    -2.0     -2.0                    -10.0   \n",
       "6            6                 -1.0    -1.0      1.0                     41.0   \n",
       "...        ...                  ...     ...      ...                      ...   \n",
       "210217    3873             100001.0     0.0     -2.0                    243.0   \n",
       "210218    3874             100000.0    -1.0     -1.0                     46.0   \n",
       "210219    3875             100004.0     4.0      5.0                     85.0   \n",
       "210220    3876             100000.0    -4.0     -8.0                    -26.0   \n",
       "210221    3877             100001.0     1.0      5.0                    -64.0   \n",
       "\n",
       "        DAC_FLOATMAG_BH  file  target  \n",
       "2                -200.0     0   -76.0  \n",
       "3                -191.0     0    49.0  \n",
       "4                -171.0     0   -10.0  \n",
       "5                -142.0     0    41.0  \n",
       "6                -127.0     0   -11.0  \n",
       "...                 ...   ...     ...  \n",
       "210217            254.0    23    46.0  \n",
       "210218            259.0    23    85.0  \n",
       "210219            240.0    23   -26.0  \n",
       "210220            270.0    23   -64.0  \n",
       "210221            254.0    23     NaN  \n",
       "\n",
       "[210174 rows x 8 columns]"
      ]
     },
     "execution_count": 41,
     "metadata": {},
     "output_type": "execute_result"
    }
   ],
   "source": [
    "train"
   ]
  },
  {
   "cell_type": "code",
   "execution_count": 3,
   "metadata": {},
   "outputs": [],
   "source": [
    "\n",
    "def build_training_set(data, sequence_length, prediction_timestep):\n",
    "\n",
    "    #input data will just be matrix of values, timestep x (features + target)\n",
    "\n",
    "    #output will be matrix: (data_trial x timestep x features) and (data_trial x target)\n",
    "\n",
    "    #ok so we will have a trial for every data point, (because rolling window)\n",
    "    #for timesteps that dont have he full sequence length, we will just pad with zeros\n",
    "    #will remove nan values later\n",
    "\n",
    "    #first lets pad the data with zeros (need sequence_length - 1 zeros)\n",
    "\n",
    "    shape = data.shape\n",
    "\n",
    "    num_features = shape[1] - 1 #subtract 1 for target\n",
    "\n",
    "    zero_padding_features = np.zeros((sequence_length - 1, num_features))\n",
    "    nan_padding_target = np.full((sequence_length - 1, 1), np.nan)\n",
    "    to_pad_with = np.hstack((zero_padding_features, nan_padding_target))\n",
    "\n",
    "    data = np.vstack((to_pad_with, data))\n",
    "\n",
    "\n",
    "    #now lets build the training set\n",
    "\n",
    "    X = []\n",
    "    y = []\n",
    "\n",
    "    for indx, i in enumerate(range(shape[0] - prediction_timestep)): #one trial for every data point except the last one (or however many we are predicting ahead)\n",
    "\n",
    "        trial = data[i:i+sequence_length, :]\n",
    "\n",
    "        #check for nan values\n",
    "        if np.isnan(trial[:,:-1]).any() or np.isnan(trial[-1,-1]).any():\n",
    "            continue\n",
    "\n",
    "        X.append(trial[:,:-1])\n",
    "        y.append([trial[-1,-1]])\n",
    "\n",
    "    X = np.array(X)\n",
    "    y = np.array(y)\n",
    "\n",
    "\n",
    "    return X, y\n",
    "\n",
    "\n",
    "    "
   ]
  },
  {
   "cell_type": "code",
   "execution_count": 71,
   "metadata": {},
   "outputs": [],
   "source": [
    "sequence_length = 10\n",
    "prediction_timestep = 1\n",
    "\n",
    "train[\"target\"] = train.groupby(\"file\")[\"FLOATMAG_ACC_ADC_PORT_0\"].shift(-prediction_timestep)\n",
    "\n",
    "X, y = [], []\n",
    "\n",
    "for file_num in train[\"file\"].unique():\n",
    "\n",
    "    data = train[train[\"file\"] == file_num][[\"ENC_POS_FLOATMAG_BH\", \"dENC_X\", \"ddENC_X\", \"DAC_FLOATMAG_BH\", \"target\"]].values\n",
    "\n",
    "    X_temp, y_temp = build_training_set(data, sequence_length, prediction_timestep)\n",
    "\n",
    "    X.extend(X_temp)\n",
    "    y.extend(y_temp)\n",
    "\n",
    "X = np.array(X)\n",
    "y = np.array(y)\n",
    "\n",
    "\n",
    "test[\"target\"] = test.groupby(\"file\")[\"FLOATMAG_ACC_ADC_PORT_0\"].shift(-prediction_timestep)\n",
    "X_test, y_test = [], []\n",
    "\n",
    "for file_num in test[\"file\"].unique():\n",
    "\n",
    "    data = test[test[\"file\"] == file_num][[\"ENC_POS_FLOATMAG_BH\", \"dENC_X\", \"ddENC_X\", \"DAC_FLOATMAG_BH\", \"target\"]].values\n",
    "\n",
    "    X_temp, y_temp = build_training_set(data, sequence_length, prediction_timestep)\n",
    "\n",
    "    X_test.extend(X_temp)\n",
    "    y_test.extend(y_temp)\n",
    "\n",
    "X_test = np.array(X_test)\n",
    "y_test = np.array(y_test)\n",
    "\n",
    "\n"
   ]
  },
  {
   "cell_type": "code",
   "execution_count": 20,
   "metadata": {},
   "outputs": [],
   "source": [
    "X = np.array(X)\n",
    "y = np.array(y)"
   ]
  },
  {
   "cell_type": "code",
   "execution_count": 21,
   "metadata": {},
   "outputs": [
    {
     "data": {
      "text/plain": [
       "((210150, 10, 4), (210150, 1))"
      ]
     },
     "execution_count": 21,
     "metadata": {},
     "output_type": "execute_result"
    }
   ],
   "source": [
    "X.shape, y.shape"
   ]
  },
  {
   "cell_type": "code",
   "execution_count": null,
   "metadata": {},
   "outputs": [],
   "source": []
  },
  {
   "cell_type": "code",
   "execution_count": 22,
   "metadata": {},
   "outputs": [
    {
     "name": "stderr",
     "output_type": "stream",
     "text": [
      "2023-10-24 19:05:06.523292: E tensorflow/compiler/xla/stream_executor/cuda/cuda_dnn.cc:9342] Unable to register cuDNN factory: Attempting to register factory for plugin cuDNN when one has already been registered\n",
      "2023-10-24 19:05:06.523440: E tensorflow/compiler/xla/stream_executor/cuda/cuda_fft.cc:609] Unable to register cuFFT factory: Attempting to register factory for plugin cuFFT when one has already been registered\n",
      "2023-10-24 19:05:06.524954: E tensorflow/compiler/xla/stream_executor/cuda/cuda_blas.cc:1518] Unable to register cuBLAS factory: Attempting to register factory for plugin cuBLAS when one has already been registered\n",
      "2023-10-24 19:05:06.654826: I tensorflow/core/platform/cpu_feature_guard.cc:182] This TensorFlow binary is optimized to use available CPU instructions in performance-critical operations.\n",
      "To enable the following instructions: AVX2 FMA, in other operations, rebuild TensorFlow with the appropriate compiler flags.\n",
      "2023-10-24 19:05:09.803270: I tensorflow/compiler/xla/stream_executor/cuda/cuda_gpu_executor.cc:880] could not open file to read NUMA node: /sys/bus/pci/devices/0000:07:00.0/numa_node\n",
      "Your kernel may have been built without NUMA support.\n",
      "2023-10-24 19:05:09.829735: I tensorflow/compiler/xla/stream_executor/cuda/cuda_gpu_executor.cc:880] could not open file to read NUMA node: /sys/bus/pci/devices/0000:07:00.0/numa_node\n",
      "Your kernel may have been built without NUMA support.\n",
      "2023-10-24 19:05:09.829799: I tensorflow/compiler/xla/stream_executor/cuda/cuda_gpu_executor.cc:880] could not open file to read NUMA node: /sys/bus/pci/devices/0000:07:00.0/numa_node\n",
      "Your kernel may have been built without NUMA support.\n",
      "2023-10-24 19:05:09.833517: I tensorflow/compiler/xla/stream_executor/cuda/cuda_gpu_executor.cc:880] could not open file to read NUMA node: /sys/bus/pci/devices/0000:07:00.0/numa_node\n",
      "Your kernel may have been built without NUMA support.\n",
      "2023-10-24 19:05:09.833566: I tensorflow/compiler/xla/stream_executor/cuda/cuda_gpu_executor.cc:880] could not open file to read NUMA node: /sys/bus/pci/devices/0000:07:00.0/numa_node\n",
      "Your kernel may have been built without NUMA support.\n",
      "2023-10-24 19:05:09.833587: I tensorflow/compiler/xla/stream_executor/cuda/cuda_gpu_executor.cc:880] could not open file to read NUMA node: /sys/bus/pci/devices/0000:07:00.0/numa_node\n",
      "Your kernel may have been built without NUMA support.\n",
      "2023-10-24 19:05:11.066939: I tensorflow/compiler/xla/stream_executor/cuda/cuda_gpu_executor.cc:880] could not open file to read NUMA node: /sys/bus/pci/devices/0000:07:00.0/numa_node\n",
      "Your kernel may have been built without NUMA support.\n",
      "2023-10-24 19:05:11.066995: I tensorflow/compiler/xla/stream_executor/cuda/cuda_gpu_executor.cc:880] could not open file to read NUMA node: /sys/bus/pci/devices/0000:07:00.0/numa_node\n",
      "Your kernel may have been built without NUMA support.\n",
      "2023-10-24 19:05:11.067002: I tensorflow/core/common_runtime/gpu/gpu_device.cc:1977] Could not identify NUMA node of platform GPU id 0, defaulting to 0.  Your kernel may not have been built with NUMA support.\n",
      "2023-10-24 19:05:11.067033: I tensorflow/compiler/xla/stream_executor/cuda/cuda_gpu_executor.cc:880] could not open file to read NUMA node: /sys/bus/pci/devices/0000:07:00.0/numa_node\n",
      "Your kernel may have been built without NUMA support.\n",
      "2023-10-24 19:05:11.067074: I tensorflow/core/common_runtime/gpu/gpu_device.cc:1886] Created device /job:localhost/replica:0/task:0/device:GPU:0 with 5914 MB memory:  -> device: 0, name: NVIDIA GeForce RTX 2070 SUPER, pci bus id: 0000:07:00.0, compute capability: 7.5\n",
      "2023-10-24 19:05:11.467167: I tensorflow/tsl/platform/default/subprocess.cc:304] Start cannot spawn child process: No such file or directory\n"
     ]
    }
   ],
   "source": [
    "import tensorflow as tf\n",
    "from tensorflow.keras.models import Sequential\n",
    "from tensorflow.keras.layers import LSTM, Dense, Input\n",
    "\n",
    "model = Sequential([\n",
    "    Input(shape=(10, 4)),  # Input shape: 10 timesteps with 4 features each\n",
    "    LSTM(50),  # LSTM layer with 50 units\n",
    "    Dense(1)  # Output layer with 1 unit\n",
    "])\n",
    "\n",
    "model.compile(optimizer='adam', loss='mse', metrics=['mae'])\n"
   ]
  },
  {
   "cell_type": "code",
   "execution_count": 26,
   "metadata": {},
   "outputs": [
    {
     "name": "stdout",
     "output_type": "stream",
     "text": [
      "Epoch 1/10\n",
      "6568/6568 [==============================] - 78s 12ms/step - loss: 4204649.5000 - mae: 827.3379 - val_loss: 4192027.2500 - val_mae: 825.1798\n",
      "Epoch 2/10\n",
      "6568/6568 [==============================] - 76s 12ms/step - loss: 4178551.7500 - mae: 821.8325 - val_loss: 4168741.7500 - val_mae: 820.3405\n",
      "Epoch 3/10\n",
      "6568/6568 [==============================] - 75s 11ms/step - loss: 4156010.2500 - mae: 818.0732 - val_loss: 4140720.5000 - val_mae: 815.6031\n",
      "Epoch 4/10\n",
      "6568/6568 [==============================] - 78s 12ms/step - loss: 4127510.5000 - mae: 812.9760 - val_loss: 4113463.5000 - val_mae: 810.1851\n",
      "Epoch 5/10\n",
      "6568/6568 [==============================] - 80s 12ms/step - loss: 4105978.0000 - mae: 808.9410 - val_loss: 4093822.7500 - val_mae: 804.8249\n",
      "Epoch 6/10\n",
      "6568/6568 [==============================] - 78s 12ms/step - loss: 4096497.0000 - mae: 807.3506 - val_loss: 4073321.0000 - val_mae: 801.6064\n",
      "Epoch 7/10\n",
      "6568/6568 [==============================] - 77s 12ms/step - loss: 4069250.5000 - mae: 800.1926 - val_loss: 4062444.2500 - val_mae: 798.6375\n",
      "Epoch 8/10\n",
      "6568/6568 [==============================] - 77s 12ms/step - loss: 4056608.2500 - mae: 799.5800 - val_loss: 4062289.0000 - val_mae: 803.1617\n",
      "Epoch 9/10\n",
      "6568/6568 [==============================] - 74s 11ms/step - loss: 4050243.0000 - mae: 804.1802 - val_loss: 4040817.7500 - val_mae: 794.3847\n",
      "Epoch 10/10\n",
      "6568/6568 [==============================] - 74s 11ms/step - loss: 4021759.5000 - mae: 792.3759 - val_loss: 4032066.2500 - val_mae: 802.8416\n"
     ]
    }
   ],
   "source": [
    "history = model.fit(X, y, epochs=10, batch_size=32, validation_data = (X_test, y_test))\n"
   ]
  },
  {
   "cell_type": "code",
   "execution_count": 70,
   "metadata": {},
   "outputs": [],
   "source": [
    "mae = tf.keras.metrics.mean_absolute_error"
   ]
  },
  {
   "cell_type": "code",
   "execution_count": null,
   "metadata": {},
   "outputs": [],
   "source": [
    "model"
   ]
  },
  {
   "cell_type": "code",
   "execution_count": null,
   "metadata": {},
   "outputs": [],
   "source": []
  },
  {
   "cell_type": "code",
   "execution_count": 29,
   "metadata": {},
   "outputs": [
    {
     "data": {
      "text/plain": [
       "[<matplotlib.lines.Line2D at 0x7fe98016a410>]"
      ]
     },
     "execution_count": 29,
     "metadata": {},
     "output_type": "execute_result"
    },
    {
     "data": {
      "image/png": "[encoded data removed]",
      "text/plain": [
       "<Figure size 640x480 with 1 Axes>"
      ]
     },
     "metadata": {},
     "output_type": "display_data"
    }
   ],
   "source": [
    "\n",
    "plt.plot(history.history[\"val_mae\"])"
   ]
  },
  {
   "cell_type": "code",
   "execution_count": 34,
   "metadata": {},
   "outputs": [],
   "source": [
    "test[\"target\"] = test.groupby(\"file\")[\"FLOATMAG_ACC_ADC_PORT_0\"].shift(-prediction_timestep)\n",
    "one_trial_test = test[test[\"file\"] == 24][[\"ENC_POS_FLOATMAG_BH\", \"dENC_X\", \"ddENC_X\", \"DAC_FLOATMAG_BH\", \"target\"]].values\n"
   ]
  },
  {
   "cell_type": "code",
   "execution_count": 40,
   "metadata": {},
   "outputs": [],
   "source": [
    "\n",
    "X_test_one_trial, y_test_one_trial = build_training_set(one_trial_test, sequence_length, prediction_timestep)\n",
    "\n"
   ]
  },
  {
   "cell_type": "code",
   "execution_count": 42,
   "metadata": {},
   "outputs": [
    {
     "data": {
      "text/plain": [
       "((3627, 10, 4), (3627, 1))"
      ]
     },
     "execution_count": 42,
     "metadata": {},
     "output_type": "execute_result"
    }
   ],
   "source": [
    "X_test_one_trial.shape, y_test_one_trial.shape"
   ]
  },
  {
   "cell_type": "code",
   "execution_count": 68,
   "metadata": {},
   "outputs": [
    {
     "name": "stdout",
     "output_type": "stream",
     "text": [
      "114/114 [==============================] - 0s 4ms/step\n"
     ]
    },
    {
     "data": {
      "image/png": "[encoded data removed]",
      "text/plain": [
       "<Figure size 1000x600 with 1 Axes>"
      ]
     },
     "metadata": {},
     "output_type": "display_data"
    }
   ],
   "source": [
    "#now we need to use the model to predict on one file from the test data, to actually vizualize the predictions\n",
    "\n",
    "\n",
    "times = np.array(range(len(X_test_one_trial))) / 8000\n",
    "\n",
    "predictions_one_trial = model.predict(X_test_one_trial)\n",
    "rmse_test = np.sqrt(mse(y_test_one_trial.flatten(), predictions_one_trial.flatten()))\n",
    "\n",
    "# Visualize predictions vs actual values\n",
    "plt.figure(figsize=(10, 6))\n",
    "plt.scatter(times, y_test_one_trial.flatten(), color='blue', label='Actual')\n",
    "plt.scatter(times, predictions_one_trial.flatten(), color='green', label='Predicted')\n",
    "\n",
    "\n",
    "plt.title(f'predictions on test data - RMSE: {rmse_test:.3f}')\n",
    "plt.xlabel('Time (s)')\n",
    "plt.ylabel('Endpoint values')\n",
    "plt.legend()\n",
    "plt.show()"
   ]
  },
  {
   "cell_type": "code",
   "execution_count": 66,
   "metadata": {},
   "outputs": [
    {
     "data": {
      "text/plain": [
       "array([[-2.36485329e+01],\n",
       "       [ 9.28385735e+00],\n",
       "       [ 6.03774109e+01],\n",
       "       [-5.75944901e+01],\n",
       "       [-2.97165470e+01],\n",
       "       [ 7.72376251e+01],\n",
       "       [ 1.10912636e+02],\n",
       "       [-5.13926430e+01],\n",
       "       [-6.54404449e+01],\n",
       "       [-2.25384541e+01],\n",
       "       [-1.52613163e+01],\n",
       "       [-7.74827003e-02],\n",
       "       [-2.16082401e+01],\n",
       "       [-1.15602768e+02],\n",
       "       [-1.01880516e+02],\n",
       "       [-1.64457733e+02],\n",
       "       [-2.16675201e+02],\n",
       "       [-2.27859024e+02],\n",
       "       [-2.25357651e+02],\n",
       "       [-2.25610809e+02],\n",
       "       [-2.19130173e+02],\n",
       "       [-2.18329697e+02],\n",
       "       [-2.18423401e+02],\n",
       "       [-2.18473892e+02],\n",
       "       [-2.18491241e+02],\n",
       "       [-2.18493683e+02],\n",
       "       [-2.18504410e+02],\n",
       "       [-2.18059845e+02],\n",
       "       [-2.14903091e+02],\n",
       "       [-2.11800430e+02],\n",
       "       [-1.71641235e+02],\n",
       "       [-1.66951950e+02],\n",
       "       [-1.69205292e+02],\n",
       "       [-1.69050888e+02],\n",
       "       [-1.69249542e+02],\n",
       "       [-1.69249542e+02],\n",
       "       [-1.69249542e+02],\n",
       "       [-1.69249542e+02],\n",
       "       [-1.69249542e+02],\n",
       "       [-1.69249542e+02],\n",
       "       [-1.69249542e+02],\n",
       "       [-1.69249542e+02],\n",
       "       [-1.69249542e+02],\n",
       "       [-1.69249542e+02],\n",
       "       [-1.69249542e+02],\n",
       "       [-1.69249542e+02],\n",
       "       [-1.69249542e+02],\n",
       "       [-1.69249542e+02],\n",
       "       [-1.69249542e+02],\n",
       "       [-1.69249542e+02],\n",
       "       [-1.69249542e+02],\n",
       "       [-1.69249542e+02],\n",
       "       [-1.69249542e+02],\n",
       "       [-1.69249542e+02],\n",
       "       [-1.69249542e+02],\n",
       "       [-1.69249542e+02],\n",
       "       [-1.69249542e+02],\n",
       "       [-1.69249542e+02],\n",
       "       [-1.69249542e+02],\n",
       "       [-1.69249542e+02],\n",
       "       [-1.69249542e+02],\n",
       "       [-1.69249542e+02],\n",
       "       [-1.69249542e+02],\n",
       "       [-1.69249542e+02],\n",
       "       [-1.69249542e+02],\n",
       "       [-1.69249542e+02],\n",
       "       [-1.69249542e+02],\n",
       "       [-1.69249542e+02],\n",
       "       [-1.69249542e+02],\n",
       "       [-1.69249542e+02],\n",
       "       [-1.69249542e+02],\n",
       "       [-1.69249542e+02],\n",
       "       [-1.69249542e+02],\n",
       "       [-1.69249542e+02],\n",
       "       [-1.69249573e+02],\n",
       "       [-1.69249725e+02],\n",
       "       [-1.69250793e+02],\n",
       "       [-1.69267548e+02],\n",
       "       [-1.69283356e+02],\n",
       "       [-1.69283356e+02],\n",
       "       [-1.69283356e+02],\n",
       "       [-1.69283356e+02],\n",
       "       [-1.69283356e+02],\n",
       "       [-1.69283356e+02],\n",
       "       [-1.69283356e+02],\n",
       "       [-1.69283356e+02],\n",
       "       [-1.69283356e+02],\n",
       "       [-1.69283356e+02],\n",
       "       [-1.69283356e+02],\n",
       "       [-1.69283356e+02],\n",
       "       [-1.69283356e+02],\n",
       "       [-1.69283356e+02],\n",
       "       [-1.69283356e+02],\n",
       "       [-1.69283356e+02],\n",
       "       [-1.69283356e+02],\n",
       "       [-1.69283356e+02],\n",
       "       [-1.69283356e+02],\n",
       "       [-1.69283356e+02],\n",
       "       [-1.69283356e+02],\n",
       "       [-1.69283356e+02]], dtype=float32)"
      ]
     },
     "execution_count": 66,
     "metadata": {},
     "output_type": "execute_result"
    }
   ],
   "source": [
    "predictions_one_trial[:100]"
   ]
  },
  {
   "cell_type": "code",
   "execution_count": null,
   "metadata": {},
   "outputs": [],
   "source": []
  },
  {
   "cell_type": "code",
   "execution_count": null,
   "metadata": {},
   "outputs": [],
   "source": []
  }
 ],
 "metadata": {
  "kernelspec": {
   "display_name": ".ml_env",
   "language": "python",
   "name": "python3"
  },
  "language_info": {
   "codemirror_mode": {
    "name": "ipython",
    "version": 3
   },
   "file_extension": ".py",
   "mimetype": "text/x-python",
   "name": "python",
   "nbconvert_exporter": "python",
   "pygments_lexer": "ipython3",
   "version": "3.10.12"
  }
 },
 "nbformat": 4,
 "nbformat_minor": 2
}
